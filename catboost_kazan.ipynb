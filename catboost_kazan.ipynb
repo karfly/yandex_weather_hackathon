{
 "cells": [
  {
   "cell_type": "code",
   "execution_count": 1,
   "metadata": {},
   "outputs": [],
   "source": [
    "import json\n",
    "\n",
    "import numpy as np\n",
    "import pandas as pd\n",
    "import matplotlib.pyplot as plt\n",
    "%matplotlib inline\n",
    "\n",
    "from sklearn.metrics import roc_auc_score,roc_curve\n",
    "\n",
    "from catboost import CatBoostClassifier\n",
    "\n",
    "from data_manager import DataManager\n",
    "from tqdm import tqdm_notebook as tqdm"
   ]
  },
  {
   "cell_type": "code",
   "execution_count": null,
   "metadata": {},
   "outputs": [],
   "source": [
    "def plot_roc_auc(model, X_train, X_val, y_train, y_val):\n",
    "    y_train_pred = model.predict_proba(X_train)[:,1]\n",
    "    print(\"Train ROC AUC:\",roc_auc_score(y_train,y_train_pred))\n",
    "\n",
    "    fpr,tpr,_ = roc_curve(y_train, y_train_pred)\n",
    "    plt.plot(fpr,tpr,label='train AUC')\n",
    "\n",
    "    y_val_pred = model.predict_proba(X_val)[:,1]\n",
    "    print(\"Val ROC AUC:\",roc_auc_score(y_val,y_val_pred))\n",
    "\n",
    "    fpr,tpr,_ = roc_curve(y_val, y_val_pred)\n",
    "    plt.plot(fpr,tpr,label='validation AUC')\n",
    "\n",
    "    plt.plot([0,1],[0,1])\n",
    "    plt.legend(loc='lower right')\n",
    "    \n",
    "def plot_feature_importances(model, X):\n",
    "    order = np.argsort(model._feature_importance)\n",
    "    plt.figure(figsize=[6,9])\n",
    "    plt.plot(np.array(model._feature_importance)[order],range(len(order)),marker='o')\n",
    "    plt.hlines(range(len(order)),np.zeros_like(order),np.array(model._feature_importance)[order],linestyles=':')\n",
    "    plt.yticks(range(X.shape[1]),X.columns[order]);\n",
    "    plt.tick_params(labelsize=16)\n",
    "    plt.xlim([0.1,max(model._feature_importance)*1.5])\n",
    "    plt.ylim(-1,len(order))\n",
    "    plt.xscale('log') "
   ]
  },
  {
   "cell_type": "code",
   "execution_count": null,
   "metadata": {},
   "outputs": [
    {
     "name": "stdout",
     "output_type": "stream",
     "text": [
      "Loading train df...\n",
      "Loading train netatmo df...\n",
      "Preprocessing train netatmo df...\n",
      "Extracting features...\n"
     ]
    },
    {
     "name": "stderr",
     "output_type": "stream",
     "text": [
      "  0%|          | 9/32803 [00:01<10:13:18,  1.12s/it]/usr/local/lib/python3.5/dist-packages/numpy/lib/function_base.py:4269: RuntimeWarning: Invalid value encountered in percentile\n",
      "  interpolation=interpolation)\n",
      " 51%|█████     | 16725/32803 [04:03<03:49, 69.93it/s]"
     ]
    }
   ],
   "source": [
    "dm = DataManager(city_name='kazan')"
   ]
  },
  {
   "cell_type": "code",
   "execution_count": null,
   "metadata": {},
   "outputs": [],
   "source": [
    "X, y, block_ids = dm.X_train, dm.y_train, dm.train_block_ids"
   ]
  },
  {
   "cell_type": "code",
   "execution_count": null,
   "metadata": {},
   "outputs": [],
   "source": [
    "in_train = block_ids['hours_since'] <= np.percentile(block_ids['hours_since'], 85)  #leave last 15% for validation\n",
    "X_train, y_train = X[in_train], y[in_train]\n",
    "X_val, y_val = X[~in_train], y[~in_train]"
   ]
  },
  {
   "cell_type": "code",
   "execution_count": null,
   "metadata": {},
   "outputs": [],
   "source": [
    "X_train.shape, X_val.shape, y_train.shape, y_val.shape"
   ]
  },
  {
   "cell_type": "code",
   "execution_count": null,
   "metadata": {},
   "outputs": [],
   "source": [
    "model = CatBoostClassifier(iterations=2000,\n",
    "                           depth=6,\n",
    "                           loss_function='Logloss',\n",
    "                           learning_rate=0.015,\n",
    "                           thread_count=12,\n",
    "                           use_best_model=True,\n",
    "                           eval_metric='AUC',\n",
    "                           random_seed=1,\n",
    "                           verbose=True) \\\n",
    "            .fit(X_train, y_train, eval_set=(X_val, y_val))"
   ]
  },
  {
   "cell_type": "code",
   "execution_count": null,
   "metadata": {},
   "outputs": [],
   "source": [
    "tree_count = model.tree_count_\n",
    "print(tree_count)"
   ]
  },
  {
   "cell_type": "code",
   "execution_count": null,
   "metadata": {},
   "outputs": [],
   "source": [
    "def stas_xgb(X_train, y_train, X_val, y_val=None):\n",
    "    ytestxgb = np.zeros(X_val.shape[0])\n",
    "    bgs = 10\n",
    "    for bg in tqdm(range(bgs)):\n",
    "        seed = bg + 1\n",
    "\n",
    "        model = CatBoostClassifier(iterations=tree_count,\n",
    "                                   depth=6,\n",
    "                                   loss_function='Logloss',\n",
    "                                   learning_rate=0.015,\n",
    "                                   thread_count=12,\n",
    "                                   eval_metric='AUC',\n",
    "                                   random_seed=seed) \\\n",
    "                    .fit(X_train, y_train)\n",
    "        \n",
    "        ypredxgb = model.predict_proba(X_val)[:, 1]\n",
    "        ytestxgb += ypredxgb\n",
    "        \n",
    "        if y_val is not None:\n",
    "            print(bg, roc_auc_score(y_val, ytestxgb / (bg + 1.)), roc_auc_score(y_val, ypredxgb))\n",
    "        else:\n",
    "            print(bg)\n",
    "    \n",
    "    ytestxgb /= bgs\n",
    "    return ytestxgb    "
   ]
  },
  {
   "cell_type": "code",
   "execution_count": null,
   "metadata": {},
   "outputs": [],
   "source": [
    "stas_xgb(X_train, y_train, X_val, y_val)"
   ]
  },
  {
   "cell_type": "code",
   "execution_count": null,
   "metadata": {},
   "outputs": [],
   "source": [
    "model.predict"
   ]
  },
  {
   "cell_type": "code",
   "execution_count": null,
   "metadata": {},
   "outputs": [],
   "source": [
    "plot_roc_auc(model, dm.X_train, dm.X_val, dm.y_train, dm.y_val)"
   ]
  },
  {
   "cell_type": "code",
   "execution_count": null,
   "metadata": {},
   "outputs": [],
   "source": [
    "plot_feature_importances(model, dm.X_train)"
   ]
  },
  {
   "cell_type": "markdown",
   "metadata": {},
   "source": [
    "## Final model and uploading the results"
   ]
  },
  {
   "cell_type": "code",
   "execution_count": null,
   "metadata": {},
   "outputs": [],
   "source": [
    "y_pred = stas_xgb(X, y, X_test)"
   ]
  },
  {
   "cell_type": "code",
   "execution_count": null,
   "metadata": {},
   "outputs": [],
   "source": [
    "#This code saves the prediction for one city.\n",
    "prediction_for_one_city = test_block_ids.copy()\n",
    "prediction_for_one_city[\"prediction\"] = model.predict_proba(X_test)[:,1]\n",
    "prediction_for_one_city.to_csv(CITY_PREDICTIONS_PATH)\n",
    "\n",
    "prediction_for_one_city.head()\n",
    "\n",
    "#WARNING! you must run this notebook for all three regions before proceeding!\n",
    "#We assume that you have prediction_msk.csv , prediction_spb.csv and prediction_kazan.csv files prepared."
   ]
  },
  {
   "cell_type": "code",
   "execution_count": null,
   "metadata": {},
   "outputs": [],
   "source": [
    "data = X.copy()\n",
    "data[\"target\"] = y\n",
    "data.to_csv(\"intermediate_data/kazan.csv\")\n",
    "X_test.to_csv(\"intermediate_data/kazan_test.csv\")"
   ]
  }
 ],
 "metadata": {
  "kernelspec": {
   "display_name": "Python 3",
   "language": "python",
   "name": "python3"
  },
  "language_info": {
   "codemirror_mode": {
    "name": "ipython",
    "version": 3
   },
   "file_extension": ".py",
   "mimetype": "text/x-python",
   "name": "python",
   "nbconvert_exporter": "python",
   "pygments_lexer": "ipython3",
   "version": "3.5.2"
  }
 },
 "nbformat": 4,
 "nbformat_minor": 2
}
